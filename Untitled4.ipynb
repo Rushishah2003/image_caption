{
  "nbformat": 4,
  "nbformat_minor": 0,
  "metadata": {
    "colab": {
      "provenance": []
    },
    "kernelspec": {
      "name": "python3",
      "display_name": "Python 3"
    },
    "language_info": {
      "name": "python"
    }
  },
  "cells": [
    {
      "cell_type": "code",
      "source": [
        "\n",
        "\n",
        "import numpy as np\n",
        "import requests\n",
        "from PIL import Image\n",
        "from transformers import BlipProcessor, BlipForConditionalGeneration\n",
        "from flask import Flask,jsonify,render_template\n",
        "\n",
        "# Load BLIP model\n",
        "processor = BlipProcessor.from_pretrained(\"Salesforce/blip-image-captioning-large\")\n",
        "model = BlipForConditionalGeneration.from_pretrained(\"Salesforce/blip-image-captioning-large\")\n",
        "\n",
        "# Load an example image\n",
        "img_url = 'https://storage.googleapis.com/sfr-vision-language-research/BLIP/demo.jpg'\n",
        "raw_image = Image.open(requests.get(img_url, stream=True).raw).convert('RGB')\n",
        "\n",
        "# Perform image captioning\n",
        "text = None\n",
        "inputs = processor(raw_image, text, return_tensors=\"pt\")\n",
        "out = model.generate(**inputs,max_new_tokens=50)\n",
        "caption = processor.decode(out[0], skip_special_tokens=True)\n",
        "print(caption)\n",
        "\n",
        "app = Flask(__name__)\n"
      ],
      "metadata": {
        "colab": {
          "base_uri": "https://localhost:8080/"
        },
        "id": "7kcoaeVXRtYq",
        "outputId": "591a0ec1-707d-41a6-d880-18d6dfd7c18b"
      },
      "execution_count": 37,
      "outputs": [
        {
          "output_type": "stream",
          "name": "stdout",
          "text": [
            "woman sitting on the beach with her dog and a cell phone\n"
          ]
        }
      ]
    },
    {
      "cell_type": "code",
      "source": [
        "@app.route('/', methods=['POST'])\n",
        "def index():\n",
        "  return render_template('image caption.html')\n",
        "def generate_caption():\n",
        "        # Get the image URL from the request\n",
        "        img_url = request.json['image_url']\n",
        "\n",
        "        # Load the image\n",
        "        raw_image = Image.open(requests.get(img_url, stream=True).raw).convert('RGB')\n",
        "\n",
        "        # Perform image captioning (same as your existing code)\n",
        "        inputs = processor(raw_image, text, return_tensors=\"pt\")\n",
        "        out = model.generate(**inputs, max_new_tokens=50)\n",
        "        print(out)\n",
        "        caption = processor.decode(out[0], skip_special_tokens=True)\n",
        "\n",
        "        # Return the caption as a JSON response\n",
        "        return jsonify({'caption': caption})"
      ],
      "metadata": {
        "id": "WCwTmMYTUr5w"
      },
      "execution_count": 39,
      "outputs": []
    },
    {
      "cell_type": "code",
      "source": [
        "if __name__ == '__main__':\n",
        "  app.run(host='0.0.0.0',port=5000,debug=True)"
      ],
      "metadata": {
        "colab": {
          "base_uri": "https://localhost:8080/"
        },
        "id": "CeLN2TZ3Uvb1",
        "outputId": "29029365-c618-48a9-da4e-1e71320892f5"
      },
      "execution_count": null,
      "outputs": [
        {
          "output_type": "stream",
          "name": "stdout",
          "text": [
            " * Serving Flask app '__main__'\n",
            " * Debug mode: on\n"
          ]
        },
        {
          "output_type": "stream",
          "name": "stderr",
          "text": [
            "INFO:werkzeug:\u001b[31m\u001b[1mWARNING: This is a development server. Do not use it in a production deployment. Use a production WSGI server instead.\u001b[0m\n",
            " * Running on all addresses (0.0.0.0)\n",
            " * Running on http://127.0.0.1:5000\n",
            " * Running on http://172.28.0.12:5000\n",
            "INFO:werkzeug:\u001b[33mPress CTRL+C to quit\u001b[0m\n",
            "INFO:werkzeug: * Restarting with stat\n"
          ]
        }
      ]
    }
  ]
}